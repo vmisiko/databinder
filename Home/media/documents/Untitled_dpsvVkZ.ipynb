{
 "cells": [
  {
   "cell_type": "code",
   "execution_count": 25,
   "metadata": {},
   "outputs": [],
   "source": [
    "import pandas as pd\n",
    "import random"
   ]
  },
  {
   "cell_type": "code",
   "execution_count": 8,
   "metadata": {},
   "outputs": [
    {
     "data": {
      "text/html": [
       "<div>\n",
       "<style scoped>\n",
       "    .dataframe tbody tr th:only-of-type {\n",
       "        vertical-align: middle;\n",
       "    }\n",
       "\n",
       "    .dataframe tbody tr th {\n",
       "        vertical-align: top;\n",
       "    }\n",
       "\n",
       "    .dataframe thead th {\n",
       "        text-align: right;\n",
       "    }\n",
       "</style>\n",
       "<table border=\"1\" class=\"dataframe\">\n",
       "  <thead>\n",
       "    <tr style=\"text-align: right;\">\n",
       "      <th></th>\n",
       "      <th>author</th>\n",
       "      <th>first_name</th>\n",
       "      <th>middle_name</th>\n",
       "      <th>last_name</th>\n",
       "      <th>id_number</th>\n",
       "      <th>dob</th>\n",
       "      <th>gender</th>\n",
       "    </tr>\n",
       "  </thead>\n",
       "  <tbody>\n",
       "    <tr>\n",
       "      <th>0</th>\n",
       "      <td>1</td>\n",
       "      <td>ONYANGO</td>\n",
       "      <td>GEORGE</td>\n",
       "      <td>MARUGE</td>\n",
       "      <td>33098733</td>\n",
       "      <td>29/11/1993</td>\n",
       "      <td>M</td>\n",
       "    </tr>\n",
       "    <tr>\n",
       "      <th>1</th>\n",
       "      <td>1</td>\n",
       "      <td>KAMAU</td>\n",
       "      <td>GEORGE</td>\n",
       "      <td>KARIMI</td>\n",
       "      <td>28976539</td>\n",
       "      <td>31/12/1997</td>\n",
       "      <td>M</td>\n",
       "    </tr>\n",
       "    <tr>\n",
       "      <th>2</th>\n",
       "      <td>1</td>\n",
       "      <td>Owili</td>\n",
       "      <td>Helen</td>\n",
       "      <td>Obimbo</td>\n",
       "      <td>1712854</td>\n",
       "      <td>22/12/1999</td>\n",
       "      <td>M</td>\n",
       "    </tr>\n",
       "    <tr>\n",
       "      <th>3</th>\n",
       "      <td>1</td>\n",
       "      <td>Mugure</td>\n",
       "      <td>Hannah</td>\n",
       "      <td>Manjai</td>\n",
       "      <td>3042624</td>\n",
       "      <td>31/08/1972</td>\n",
       "      <td>M</td>\n",
       "    </tr>\n",
       "    <tr>\n",
       "      <th>4</th>\n",
       "      <td>1</td>\n",
       "      <td>Wahowa</td>\n",
       "      <td>Achando</td>\n",
       "      <td>Wahowa</td>\n",
       "      <td>864870</td>\n",
       "      <td>15/01/1997</td>\n",
       "      <td>M</td>\n",
       "    </tr>\n",
       "  </tbody>\n",
       "</table>\n",
       "</div>"
      ],
      "text/plain": [
       "   author first_name middle_name last_name  id_number         dob gender\n",
       "0       1    ONYANGO      GEORGE    MARUGE   33098733  29/11/1993      M\n",
       "1       1      KAMAU      GEORGE    KARIMI   28976539  31/12/1997      M\n",
       "2       1      Owili       Helen    Obimbo    1712854  22/12/1999      M\n",
       "3       1     Mugure      Hannah    Manjai    3042624  31/08/1972      M\n",
       "4       1     Wahowa     Achando    Wahowa     864870  15/01/1997      M"
      ]
     },
     "execution_count": 8,
     "metadata": {},
     "output_type": "execute_result"
    }
   ],
   "source": [
    "data =pd.read_csv(\"persons_sample.csv\")\n",
    "data.head()"
   ]
  },
  {
   "cell_type": "code",
   "execution_count": 9,
   "metadata": {},
   "outputs": [
    {
     "data": {
      "text/html": [
       "<div>\n",
       "<style scoped>\n",
       "    .dataframe tbody tr th:only-of-type {\n",
       "        vertical-align: middle;\n",
       "    }\n",
       "\n",
       "    .dataframe tbody tr th {\n",
       "        vertical-align: top;\n",
       "    }\n",
       "\n",
       "    .dataframe thead th {\n",
       "        text-align: right;\n",
       "    }\n",
       "</style>\n",
       "<table border=\"1\" class=\"dataframe\">\n",
       "  <thead>\n",
       "    <tr style=\"text-align: right;\">\n",
       "      <th></th>\n",
       "      <th>author</th>\n",
       "      <th>first_name</th>\n",
       "      <th>middle_name</th>\n",
       "      <th>last_name</th>\n",
       "      <th>id_number</th>\n",
       "      <th>dob</th>\n",
       "      <th>gender</th>\n",
       "    </tr>\n",
       "  </thead>\n",
       "  <tbody>\n",
       "    <tr>\n",
       "      <th>0</th>\n",
       "      <td>1</td>\n",
       "      <td>ONYANGO</td>\n",
       "      <td>GEORGE</td>\n",
       "      <td>MARUGE</td>\n",
       "      <td>33098733</td>\n",
       "      <td>29/11/1993</td>\n",
       "      <td>M</td>\n",
       "    </tr>\n",
       "    <tr>\n",
       "      <th>1</th>\n",
       "      <td>1</td>\n",
       "      <td>KAMAU</td>\n",
       "      <td>GEORGE</td>\n",
       "      <td>KARIMI</td>\n",
       "      <td>28976539</td>\n",
       "      <td>31/12/1997</td>\n",
       "      <td>M</td>\n",
       "    </tr>\n",
       "    <tr>\n",
       "      <th>2</th>\n",
       "      <td>1</td>\n",
       "      <td>Owili</td>\n",
       "      <td>Helen</td>\n",
       "      <td>Obimbo</td>\n",
       "      <td>01712854</td>\n",
       "      <td>22/12/1999</td>\n",
       "      <td>M</td>\n",
       "    </tr>\n",
       "    <tr>\n",
       "      <th>3</th>\n",
       "      <td>1</td>\n",
       "      <td>Mugure</td>\n",
       "      <td>Hannah</td>\n",
       "      <td>Manjai</td>\n",
       "      <td>03042624</td>\n",
       "      <td>31/08/1972</td>\n",
       "      <td>M</td>\n",
       "    </tr>\n",
       "    <tr>\n",
       "      <th>4</th>\n",
       "      <td>1</td>\n",
       "      <td>Wahowa</td>\n",
       "      <td>Achando</td>\n",
       "      <td>Wahowa</td>\n",
       "      <td>00864870</td>\n",
       "      <td>15/01/1997</td>\n",
       "      <td>M</td>\n",
       "    </tr>\n",
       "  </tbody>\n",
       "</table>\n",
       "</div>"
      ],
      "text/plain": [
       "   author first_name middle_name last_name id_number         dob gender\n",
       "0       1    ONYANGO      GEORGE    MARUGE  33098733  29/11/1993      M\n",
       "1       1      KAMAU      GEORGE    KARIMI  28976539  31/12/1997      M\n",
       "2       1      Owili       Helen    Obimbo  01712854  22/12/1999      M\n",
       "3       1     Mugure      Hannah    Manjai  03042624  31/08/1972      M\n",
       "4       1     Wahowa     Achando    Wahowa  00864870  15/01/1997      M"
      ]
     },
     "execution_count": 9,
     "metadata": {},
     "output_type": "execute_result"
    }
   ],
   "source": [
    "def myrecode(x):\n",
    "    len_id = len(str(x))\n",
    "    sub = 8 - len_id\n",
    "    id =\"\"\n",
    "    if sub>0:\n",
    "        id= \"0\"*sub + str(x)\n",
    "    else:\n",
    "        id=str(x)\n",
    "    return id\n",
    "\n",
    "data[\"id_number\"] = data[\"id_number\"].apply(myrecode)\n",
    "data.head()"
   ]
  },
  {
   "cell_type": "code",
   "execution_count": 156,
   "metadata": {},
   "outputs": [],
   "source": [
    "\n",
    "def dob_id_format(dob,gender, id_num):\n",
    "#     part=f\"{dob},{gender},{id_num}\"\n",
    "    dob= str(dob)\n",
    "    dob1= dob.split(\"/\")\n",
    "    year = dob1[2][-2:]\n",
    "    month = dob1[1]\n",
    "    day = dob1[0]\n",
    "    dob= year + month + day\n",
    "    fixed =\"1702150\"\n",
    "    id_num =\"B00\"+id_num\n",
    "    rand= random.randint(0, 9)\n",
    "    gender = gender\n",
    "    part = dob+str(rand)+gender+fixed + \"<\" + id_num +gender +\"<<\"\n",
    "    return str(part)\n",
    "\n",
    "def name_format(first, middle,last):\n",
    "\n",
    "    first = first.upper()\n",
    "    middle = middle.upper()\n",
    "    last = last.upper()\n",
    "    part= first +\"<\"+ middle + \"<\" +last\n",
    "    sub = 30 - len(part)\n",
    "    final=\"\"\n",
    "    if sub > 0:\n",
    "        final = part + \"<\"*sub\n",
    "    return final\n",
    "\n"
   ]
  },
  {
   "cell_type": "code",
   "execution_count": 151,
   "metadata": {},
   "outputs": [
    {
     "data": {
      "text/plain": [
       "'2019125M1702150<B003327544M<<'"
      ]
     },
     "execution_count": 151,
     "metadata": {},
     "output_type": "execute_result"
    }
   ],
   "source": [
    "dob_id_format(\"12/19/2020\",\"M\", \"3327544\")"
   ]
  },
  {
   "cell_type": "code",
   "execution_count": 157,
   "metadata": {},
   "outputs": [
    {
     "name": "stdout",
     "output_type": "stream",
     "text": [
      "9311296M1702150<B0033098733M<<\n",
      "9712313M1702150<B0028976539M<<\n",
      "9912220M1702150<B0001712854M<<\n",
      "7208318M1702150<B0003042624M<<\n",
      "9701159M1702150<B0000864870M<<\n",
      "9509168M1702150<B0008757593M<<\n"
     ]
    }
   ],
   "source": [
    "for index, row in data.iterrows():\n",
    "    first_name =row[1]\n",
    "    middle_name=row[2]\n",
    "    last_name = row[3]\n",
    "    id_num =row[4]\n",
    "    dob = row[5]\n",
    "    gender =row[6]\n",
    "    print(row[index])\n",
    "    name_section = name_format(first_name, middle_name,last_name)\n",
    "    print(name_section)\n",
    "    dob_id= dob_id_format(dob, gender,id_num)\n",
    "    print(dob_id)\n",
    "    \n"
   ]
  },
  {
   "cell_type": "code",
   "execution_count": null,
   "metadata": {},
   "outputs": [],
   "source": []
  },
  {
   "cell_type": "code",
   "execution_count": null,
   "metadata": {},
   "outputs": [],
   "source": []
  },
  {
   "cell_type": "code",
   "execution_count": null,
   "metadata": {},
   "outputs": [],
   "source": []
  }
 ],
 "metadata": {
  "kernelspec": {
   "display_name": "Python 3",
   "language": "python",
   "name": "python3"
  },
  "language_info": {
   "codemirror_mode": {
    "name": "ipython",
    "version": 3
   },
   "file_extension": ".py",
   "mimetype": "text/x-python",
   "name": "python",
   "nbconvert_exporter": "python",
   "pygments_lexer": "ipython3",
   "version": "3.7.3"
  }
 },
 "nbformat": 4,
 "nbformat_minor": 2
}
